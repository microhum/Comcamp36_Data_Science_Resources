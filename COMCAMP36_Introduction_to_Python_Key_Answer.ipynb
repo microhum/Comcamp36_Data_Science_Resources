{
  "cells": [
    {
      "cell_type": "markdown",
      "metadata": {
        "id": "view-in-github",
        "colab_type": "text"
      },
      "source": [
        "<a href=\"https://colab.research.google.com/github/microhum/Comcamp36_Data_Science_Resources/blob/master/COMCAMP36_Introduction_to_Python_Key_Answer.ipynb\" target=\"_parent\"><img src=\"https://colab.research.google.com/assets/colab-badge.svg\" alt=\"Open In Colab\"/></a>"
      ]
    },
    {
      "cell_type": "markdown",
      "metadata": {
        "id": "4Ur0VjjNLoDj"
      },
      "source": [
        "-----"
      ]
    },
    {
      "cell_type": "markdown",
      "metadata": {
        "id": "nvCr9cHMLsiI"
      },
      "source": [
        "<center><font size=\"+3\">\n",
        "Introduction to Python 🐍\n",
        "</font></center>\n"
      ]
    },
    {
      "cell_type": "markdown",
      "source": [
        "# 📝 เนื้อหา\n",
        "\n",
        "### I. ชนิดของตัวแปร (Data Types)\n",
        "### II. การดำเนินการ (Operations)\n",
        "### III. เงื่อนไข (Condition)\n",
        "### IV. การลูป (Loop)\n",
        "### V. ฟังก์ชัน (Function)"
      ],
      "metadata": {
        "id": "kqQPG9Ngbv-r"
      }
    },
    {
      "cell_type": "markdown",
      "metadata": {
        "id": "DvNtdmunLuUF"
      },
      "source": [
        "-------------------"
      ]
    },
    {
      "cell_type": "markdown",
      "metadata": {
        "id": "A9ueShaGPxK1"
      },
      "source": [
        "## 💻 แสดงข้อความออกทางจอภาพด้วยฟังก์ชัน print()"
      ]
    },
    {
      "cell_type": "code",
      "execution_count": null,
      "metadata": {
        "id": "p-_KH5ZOAVXC"
      },
      "outputs": [],
      "source": [
        "# ลองกด \"run\" กันครับ\n",
        "print(\"ComCamp36\")"
      ]
    },
    {
      "cell_type": "markdown",
      "metadata": {
        "id": "AiI2gIqVMYw1"
      },
      "source": [
        "- หลักจากรันโค้ด เราก็จะเห็นข้อความ ComCamp36 ถูกพิมพ์ออกมาบนหน้าจอ<br>\n",
        "- จะสังเกตุได้ว่าข้อความจะต้องอยู่ใน Double Quote $(\")$<br>\n",
        "- สิ่งที่อยู่ใน Double Quote จะเรียกว่า *สตริง* (string) หรือ \"ข้อความ\" นั่นเอง"
      ]
    },
    {
      "cell_type": "markdown",
      "metadata": {
        "id": "PR_x3YS4IfHh"
      },
      "source": [
        "#### 📝 แบบฝึกหัด : อยากกินตับห่าน\n",
        "- เราลองมาแสดงคำว่า `\"อยากกินตับห่าน\"` บนหน้าจอกันครับ"
      ]
    },
    {
      "cell_type": "code",
      "execution_count": null,
      "metadata": {
        "id": "4vIgljNYIZtp"
      },
      "outputs": [],
      "source": [
        "# หรือจะเปลี่ยน สตริง(string) ตามใจชอบดูก็ได้นะ 👍\n",
        "print(\"อยากกินตับห่าน\")"
      ]
    },
    {
      "cell_type": "markdown",
      "metadata": {
        "id": "i2om2gEmRAVV"
      },
      "source": [
        "## 💬 หมายเหตุหรือคอมเมนท์"
      ]
    },
    {
      "cell_type": "markdown",
      "metadata": {
        "id": "IZzQ52RTUpF7"
      },
      "source": [
        "- เวลาโค้ดถูกรัน ส่วนที่คอมเมนท์จะถูกข้าม\n",
        "- หากเราต้องการหมายเหตุทั้งบรรทัด ให้เราใส่เครื่องหมาย `#` ที่ด้านหน้าสุด เช่น"
      ]
    },
    {
      "cell_type": "code",
      "execution_count": null,
      "metadata": {
        "id": "DCKkNqvmUg40"
      },
      "outputs": [],
      "source": [
        "# แสดงข้อความ Hello <- ตัวอย่างการคอมเมนท์\n",
        "print(\"Hello\")"
      ]
    },
    {
      "cell_type": "markdown",
      "source": [
        "- เราสามารถคลุมดำบรรทัดที่ต้องการ และกด Ctrl + / เพื่อคอมเมนต์หลายบรรทัดได้ มาลองดูกันครับ"
      ],
      "metadata": {
        "id": "2ihKYg_IlejD"
      }
    },
    {
      "cell_type": "code",
      "execution_count": null,
      "metadata": {
        "id": "8uzxsKteWJge"
      },
      "outputs": [],
      "source": [
        "print(\"I\")\n",
        "print(\"love\")\n",
        "# print(\"Comment me\")\n",
        "# print(\"Comment me\")\n",
        "# print(\"Comment me\")\n",
        "# print(\"Comment me\")\n",
        "print(\"You\")"
      ]
    },
    {
      "cell_type": "markdown",
      "metadata": {
        "id": "QKWuk5DJRXxN"
      },
      "source": [
        "#### 📝 แบบฝึกหัด : คอมเมนท์หลายบรรทัด\n",
        "- ลองมาทักทายค่ายเราด้วยการแสดงข้อความ `\"Hello Everyone This is ComCamp 36\"`"
      ]
    },
    {
      "cell_type": "code",
      "execution_count": null,
      "metadata": {
        "id": "CYoVbqF5RVaG"
      },
      "outputs": [],
      "source": [
        "# print(\"This\")\n",
        "print(\"Hello Everyone\")\n",
        "# print(\"is\")\n",
        "print(\"This is\")\n",
        "# print(\"cool!!!\")\n",
        "print(\"ComCamp\")\n",
        "print(\"36\")"
      ]
    },
    {
      "cell_type": "markdown",
      "metadata": {
        "id": "90xan7wKSaTo"
      },
      "source": [
        "---"
      ]
    },
    {
      "cell_type": "markdown",
      "source": [
        "# 🔢 I. ชนิดของตัวแปร (Data Types)\n",
        "\n",
        "### 1. จำนวนนับ - **int** (Integer number)\n",
        "### 2. จำนวนทศนิยม - **float** (Floating-point number)\n",
        "### 3. ข้อความ - **str** (String)\n",
        "### 4. บูลีน - **bool** (Boolean)\n",
        "### 5. ลิสต์ - **list** (Lists)\n",
        "### 6. ดิกชันนารี - **dict** (Dictionary)"
      ],
      "metadata": {
        "id": "twR9kOn6opgq"
      }
    },
    {
      "cell_type": "markdown",
      "metadata": {
        "id": "loLgAIYewa4b"
      },
      "source": [
        "## 1. จำนวนนับ - **int** (Integer) 🥇"
      ]
    },
    {
      "cell_type": "code",
      "execution_count": null,
      "metadata": {
        "id": "pgb4PXCywa4b",
        "colab": {
          "base_uri": "https://localhost:8080/"
        },
        "outputId": "105a2ff1-ccfb-4eaf-a838-adae8591831f"
      },
      "outputs": [
        {
          "output_type": "stream",
          "name": "stdout",
          "text": [
            "36\n",
            "<class 'int'>\n"
          ]
        }
      ],
      "source": [
        "a = 36 # จำนวนเต็ม\n",
        "\n",
        "print(a)\n",
        "print(type(a)) # ประเภทของ a"
      ]
    },
    {
      "cell_type": "markdown",
      "source": [
        "- เราจะสามารถรับข้อมูลตัวเลขเข้าสู่ตัวแปรได้ดังนี้"
      ],
      "metadata": {
        "id": "5LkNuhLvAMS8"
      }
    },
    {
      "cell_type": "code",
      "execution_count": null,
      "metadata": {
        "id": "UzMrsCXSwa4d"
      },
      "outputs": [],
      "source": [
        "W = int(input(\"Enter width: \"))\n",
        "H = int(input(\"Enter height: \"))\n",
        "\n",
        "Area = W * H\n",
        "\n",
        "print(Area)"
      ]
    },
    {
      "cell_type": "markdown",
      "metadata": {
        "id": "dG529orywa4b"
      },
      "source": [
        "## 2. จำนวนทศนิยม - **float** (Floating-point number) 🔢\n",
        "- การแสดงผลแบบอัตโนมัติสามารถแสดงทศนิยมได้มากที่สุด 15 ตำแหน่งเท่านั้น"
      ]
    },
    {
      "cell_type": "code",
      "execution_count": null,
      "metadata": {
        "id": "Ws4YFhRcwa4c",
        "colab": {
          "base_uri": "https://localhost:8080/"
        },
        "outputId": "a864a9a1-2730-454d-c3b2-04dfefa8cd1f"
      },
      "outputs": [
        {
          "output_type": "stream",
          "name": "stdout",
          "text": [
            "3.141592653589793\n",
            "<class 'float'>\n"
          ]
        }
      ],
      "source": [
        "b = 3.1415926535897932384626433832795028841971\n",
        "\n",
        "print(b)\n",
        "print(type(b)) # ประเภทของ b"
      ]
    },
    {
      "cell_type": "markdown",
      "metadata": {
        "id": "oSW_c-6KeM7M"
      },
      "source": [
        "- การหาพื้นที่วงกลม"
      ]
    },
    {
      "cell_type": "code",
      "execution_count": null,
      "metadata": {
        "id": "KaKEfZEmeYSl"
      },
      "outputs": [],
      "source": [
        "pi = 3.1415926\n",
        "Radius = int(input(\"Enter radius of the circle: \"))\n",
        "\n",
        "Volume = pi * Radius**2\n",
        "\n",
        "print(\"Volume of the circle =\", Volume)"
      ]
    },
    {
      "cell_type": "markdown",
      "metadata": {
        "id": "6ZOWSNAbwa4b"
      },
      "source": [
        "## 3. ข้อความ - **str** (String) 🅰️"
      ]
    },
    {
      "cell_type": "code",
      "execution_count": null,
      "metadata": {
        "id": "IgMYxmf1wa4b",
        "colab": {
          "base_uri": "https://localhost:8080/"
        },
        "outputId": "a6b82c54-0fd1-4844-9fbe-8ed89894d953"
      },
      "outputs": [
        {
          "output_type": "stream",
          "name": "stdout",
          "text": [
            "Goose game\n",
            "<class 'str'>\n"
          ]
        }
      ],
      "source": [
        "c = \"Goose game\"\n",
        "\n",
        "print(c)\n",
        "print(type(c)) # ประเภทของ c"
      ]
    },
    {
      "cell_type": "markdown",
      "metadata": {
        "id": "aun8YA2uduae"
      },
      "source": [
        "- การรับเข้าข้อความ"
      ]
    },
    {
      "cell_type": "code",
      "execution_count": null,
      "metadata": {
        "id": "pZRpJhXreBJN"
      },
      "outputs": [],
      "source": [
        "a = input(\"Input string: \")\n",
        "\n",
        "print(\"Your input: \", a)"
      ]
    },
    {
      "cell_type": "markdown",
      "metadata": {
        "id": "TUH5CUHJwa4c"
      },
      "source": [
        "- การเชื่อมสตริง (Concatenate)"
      ]
    },
    {
      "cell_type": "code",
      "execution_count": null,
      "metadata": {
        "id": "lHV4BB0Iwa4c",
        "colab": {
          "base_uri": "https://localhost:8080/"
        },
        "outputId": "f23feefa-a196-498a-f843-0798c16c0009"
      },
      "outputs": [
        {
          "output_type": "stream",
          "name": "stdout",
          "text": [
            "Goose\n"
          ]
        }
      ],
      "source": [
        "a = \"Goo\"\n",
        "b = \"se\"\n",
        "c = a + b\n",
        "\n",
        "print(c)"
      ]
    },
    {
      "cell_type": "markdown",
      "source": [
        "- ตัวอย่างสตริงที่มีรูปแบบ (Format string)"
      ],
      "metadata": {
        "id": "C8B4kL6wr5eY"
      }
    },
    {
      "cell_type": "code",
      "source": [
        "a = \"Comcamp\"\n",
        "b = 36\n",
        "c = f\"Welcome to {a}{b}\"\n",
        "\n",
        "print(c)"
      ],
      "metadata": {
        "id": "vcCAL29UsGMo"
      },
      "execution_count": null,
      "outputs": []
    },
    {
      "cell_type": "markdown",
      "source": [
        "## 4. บูลีน - **bool** (Boolean) 👍👎"
      ],
      "metadata": {
        "id": "UD06KCuvo6kT"
      }
    },
    {
      "cell_type": "markdown",
      "source": [
        "- จะถูกใช้ควบกับการกำหนดเงื่อนไข เช่น if, elif ที่จะทำให้กระบวนการถูกทำงานหาก bool มีค่าเป็นจริง"
      ],
      "metadata": {
        "id": "CQm_-ihksYmp"
      }
    },
    {
      "cell_type": "code",
      "source": [
        "x = 2 > 1\n",
        "y = 9 > 10\n",
        "\n",
        "print(x, type(x))\n",
        "print(y, type(y))"
      ],
      "metadata": {
        "colab": {
          "base_uri": "https://localhost:8080/"
        },
        "id": "s2xFubPapaFM",
        "outputId": "e9493cc4-aab4-46ff-8f6b-be43b8a282d5"
      },
      "execution_count": null,
      "outputs": [
        {
          "output_type": "stream",
          "name": "stdout",
          "text": [
            "True <class 'bool'>\n",
            "False <class 'bool'>\n"
          ]
        }
      ]
    },
    {
      "cell_type": "markdown",
      "metadata": {
        "id": "Q1sg9rYcdl5S"
      },
      "source": [
        "## 5. ลิสต์ - **list** (Lists) 📃"
      ]
    },
    {
      "cell_type": "markdown",
      "metadata": {
        "id": "0US1X4bCYZui"
      },
      "source": [
        "- ลิสต์ (list) คือรายการสิ่งของที่เราสามารถปรับเปลี่ยนรายการได้ตลอดเวลาครับ\n",
        "- ลิสต์ใช้สัญลักษณ์ `[ ]` คั่นด้วยเครื่องหมายคอมมา `,`"
      ]
    },
    {
      "cell_type": "code",
      "execution_count": null,
      "metadata": {
        "id": "udz9Nb3aY9ay",
        "colab": {
          "base_uri": "https://localhost:8080/"
        },
        "outputId": "1ed1650b-7b80-49f3-cb9b-43dcf6484e39"
      },
      "outputs": [
        {
          "output_type": "stream",
          "name": "stdout",
          "text": [
            "[1, 2, 3, 4] <class 'list'>\n",
            "['Egg', 'Chicken'] <class 'list'>\n"
          ]
        }
      ],
      "source": [
        "num_list = [1, 2, 3, 4]\n",
        "str_list = [\"Egg\", \"Chicken\"]\n",
        "\n",
        "print(num_list, type(num_list))\n",
        "print(str_list, type(str_list))"
      ]
    },
    {
      "cell_type": "markdown",
      "metadata": {
        "id": "pnppmrRDZIoW"
      },
      "source": [
        "- เราสามารถนำลิสต์มาเก็บในตัวแปรได้ ทำให้ตัวแปรเดียวสามารถเก็บค่าไว้ได้หลายค่า"
      ]
    },
    {
      "cell_type": "code",
      "execution_count": null,
      "metadata": {
        "id": "ofA5ppq6ZFRb",
        "colab": {
          "base_uri": "https://localhost:8080/"
        },
        "outputId": "3af54922-b14f-4e3a-fa0d-77fc623b3da8"
      },
      "outputs": [
        {
          "output_type": "stream",
          "name": "stdout",
          "text": [
            "[163.5, 150.0, 167.0, 161.25, 170.0]\n"
          ]
        }
      ],
      "source": [
        "# ลิสต์ความสูงของนักเรียนในกลุ่ม\n",
        "student_heights = [163.5, 150.0, 167.0, 161.25, 170.0]\n",
        "\n",
        "print(student_heights)"
      ]
    },
    {
      "cell_type": "markdown",
      "metadata": {
        "id": "ZtODrxMfQ9Mv"
      },
      "source": [
        "#### 🌐 ขนาดของลิสต์ len()"
      ]
    },
    {
      "cell_type": "markdown",
      "metadata": {
        "id": "jaw8Nx9SQ9Mw"
      },
      "source": [
        "- เราสามารถหาจำนวนสมาชิกของลิสต์ได้ด้วยคำสั่ง `len` ซึ่งย่อมาจากคำว่า length เช่น"
      ]
    },
    {
      "cell_type": "code",
      "execution_count": null,
      "metadata": {
        "id": "yL0pem8QQ9Mx",
        "colab": {
          "base_uri": "https://localhost:8080/"
        },
        "outputId": "38910751-9952-4564-e903-650cc7aa0c8e"
      },
      "outputs": [
        {
          "output_type": "stream",
          "name": "stdout",
          "text": [
            "5\n"
          ]
        }
      ],
      "source": [
        "student_heights = [163.5, 150.0, 167.0, 161.25, 170.0]\n",
        "\n",
        "print(len(student_heights))"
      ]
    },
    {
      "cell_type": "markdown",
      "metadata": {
        "id": "b3gF6UmGQ9M5"
      },
      "source": [
        "#### 🔗 การเข้าถึงสมาชิก (Indexing & Slicing)"
      ]
    },
    {
      "cell_type": "code",
      "execution_count": null,
      "metadata": {
        "id": "5_QgX1rAwa4e",
        "colab": {
          "base_uri": "https://localhost:8080/"
        },
        "outputId": "987baea6-5e58-43da-af5d-0a7a6e4d6a2f"
      },
      "outputs": [
        {
          "output_type": "stream",
          "name": "stdout",
          "text": [
            "Third student's height:  167.0\n",
            "Second to Fourth student's height:  [150.0, 167.0, 161.25]\n",
            "First two student's height:  [163.5, 150.0]\n",
            "Second and so on student's height:  [167.0, 161.25, 170.0]\n"
          ]
        }
      ],
      "source": [
        "# คำเตือน!! การ Indexing นั้นเรื่มนับจาก 0 (เรียกว่า 0-Index)\n",
        "student_heights = [163.5, 150.0, 167.0, 161.25, 170.0]\n",
        "\n",
        "print(\"Third student's height: \", student_heights[2]) # เลือกสมาชิกตัวที่ 2\n",
        "print(\"Second to Fourth student's height: \", student_heights[1:4]) # เลือกสมาชิกตั้งแต่ตัวที่ 1 จนถึงก่อนหน้าตัวที่ 4\n",
        "print(\"First two student's height: \", student_heights[:2]) # เลือกสมาชิกที่อยู่ก่อนหน้าตัวที่ 2\n",
        "print(\"Second and so on student's height: \", student_heights[2:]) # เลือกสมาชิกตั้งแต่ตัวที่ 2"
      ]
    },
    {
      "cell_type": "markdown",
      "metadata": {
        "id": "-2ea7QT8wa4f"
      },
      "source": [
        "#### ⬆️ การเพิ่มและลบข้อมูลในลิสต์ ⬇️"
      ]
    },
    {
      "cell_type": "markdown",
      "metadata": {
        "id": "dCgDL3QxnAcB"
      },
      "source": [
        "- กำหนดลิสต์รายชื่อนักเรียนในห้องหนึ่ง"
      ]
    },
    {
      "cell_type": "code",
      "execution_count": null,
      "metadata": {
        "id": "At-wyAZQwa4f",
        "colab": {
          "base_uri": "https://localhost:8080/"
        },
        "outputId": "4c9ce497-3abc-4d6a-ac1f-bb2c6a836c2f"
      },
      "outputs": [
        {
          "output_type": "stream",
          "name": "stdout",
          "text": [
            "['Donald', 'Vlad']\n"
          ]
        }
      ],
      "source": [
        "student_name = [\"Donald\", \"Vlad\"]\n",
        "\n",
        "print(student_name)"
      ]
    },
    {
      "cell_type": "markdown",
      "metadata": {
        "id": "svBx3yldwa4f"
      },
      "source": [
        "- ใช้ฟังก์ชัน append() เพื่อเพิ่มข้อมูลลงไปในลิสต์"
      ]
    },
    {
      "cell_type": "code",
      "execution_count": null,
      "metadata": {
        "id": "-1LUWF4AQ9NS",
        "colab": {
          "base_uri": "https://localhost:8080/"
        },
        "outputId": "38ba47c3-7649-4955-d5dd-788f046f4139"
      },
      "outputs": [
        {
          "output_type": "stream",
          "name": "stdout",
          "text": [
            "['Donald', 'Vlad', 'Joey']\n"
          ]
        }
      ],
      "source": [
        "student_name.append(\"Joey\")\n",
        "\n",
        "print(student_name)"
      ]
    },
    {
      "cell_type": "markdown",
      "source": [
        "- ใช้ฟังก์ชัน insert() เพื่อแทรกสมาชิกเข้าไปในลิสต์"
      ],
      "metadata": {
        "id": "iI2jWHs57TGI"
      }
    },
    {
      "cell_type": "code",
      "source": [
        "student_name.insert(2, \"Timothy\")\n",
        "\n",
        "print(student_name)"
      ],
      "metadata": {
        "id": "45Uw_bsY7Gt-",
        "colab": {
          "base_uri": "https://localhost:8080/"
        },
        "outputId": "3046d0fd-8901-4a56-9216-aad6d1dbfb10"
      },
      "execution_count": null,
      "outputs": [
        {
          "output_type": "stream",
          "name": "stdout",
          "text": [
            "['Donald', 'Vlad', 'Timothy', 'Joey']\n"
          ]
        }
      ]
    },
    {
      "cell_type": "markdown",
      "source": [
        "- ใช้ฟังก์ชัน extend() เพื่อต่อลิสต์ด้วิสต์"
      ],
      "metadata": {
        "id": "JOu6wxXC4-lh"
      }
    },
    {
      "cell_type": "code",
      "source": [
        "more_student = [\"Nolan\", \"Mark\"]\n",
        "\n",
        "student_name.extend(more_student)\n",
        "\n",
        "print(student_name)"
      ],
      "metadata": {
        "id": "duFbMR5-4j5q",
        "colab": {
          "base_uri": "https://localhost:8080/"
        },
        "outputId": "7e2ea476-a0a7-4225-806d-56b7666985c5"
      },
      "execution_count": null,
      "outputs": [
        {
          "output_type": "stream",
          "name": "stdout",
          "text": [
            "['Donald', 'Vlad', 'Timothy', 'Joey', 'Nolan', 'Mark']\n"
          ]
        }
      ]
    },
    {
      "cell_type": "markdown",
      "source": [
        "- ลบสมาชิกของลิสต์ด้วย del"
      ],
      "metadata": {
        "id": "oSRInz4o7moH"
      }
    },
    {
      "cell_type": "code",
      "source": [
        "del student_name[0]\n",
        "\n",
        "print(student_name)"
      ],
      "metadata": {
        "id": "E2ETv_VZ4-HG",
        "colab": {
          "base_uri": "https://localhost:8080/"
        },
        "outputId": "87a9bca8-7e54-45a7-a3fe-1833e5a035c7"
      },
      "execution_count": null,
      "outputs": [
        {
          "output_type": "stream",
          "name": "stdout",
          "text": [
            "['Vlad', 'Timothy', 'Joey', 'Nolan', 'Mark']\n"
          ]
        }
      ]
    },
    {
      "cell_type": "markdown",
      "metadata": {
        "id": "pAxjoZw9mko4"
      },
      "source": [
        "#### 📊 การจัดเรียงด้วยฟังก์ชัน sort() และ sorted()\n",
        "- ใช้ฟังก์ชัน sort() เพื่อเรียงข้อมูลจากมากไปน้อยในลิสต์ เช่น"
      ]
    },
    {
      "cell_type": "code",
      "execution_count": null,
      "metadata": {
        "id": "396OoY9Uwa4g",
        "colab": {
          "base_uri": "https://localhost:8080/"
        },
        "outputId": "78f10402-0396-457b-e4e4-23dfb3b937df"
      },
      "outputs": [
        {
          "output_type": "stream",
          "name": "stdout",
          "text": [
            "[1, 2, 3, 4, 5]\n"
          ]
        }
      ],
      "source": [
        "number = [1,5,4,3,2]\n",
        "\n",
        "number.sort()\n",
        "\n",
        "print(number)"
      ]
    },
    {
      "cell_type": "code",
      "execution_count": null,
      "metadata": {
        "id": "x3CdHMFCmSNR",
        "colab": {
          "base_uri": "https://localhost:8080/"
        },
        "outputId": "4fb41464-a1f8-43b4-df14-02225f836c8b"
      },
      "outputs": [
        {
          "output_type": "stream",
          "name": "stdout",
          "text": [
            "['admin', 'control', 'user']\n"
          ]
        }
      ],
      "source": [
        "name = [\"admin\",\"user\",\"control\"]\n",
        "name.sort(reverse=False) # reverse => False จากน้อย->มาก | True จาก มาก->น้อย\n",
        "\n",
        "print(name)"
      ]
    },
    {
      "cell_type": "markdown",
      "source": [
        "- ใช้ฟังก์ชัน sorted() เพื่อคืนค่าข้อมูลที่ถูกเรียงของลิสต์โดยไม่เปลี่ยนลิสต์ต้นฉบับ"
      ],
      "metadata": {
        "id": "jJVE89xsuwQ3"
      }
    },
    {
      "cell_type": "code",
      "source": [
        "old_items = [3, 8, 5 , 10, 2, 9]\n",
        "new_items = sorted(old_items)\n",
        "\n",
        "print(\"Old items (unsorted): \", old_items)\n",
        "print(\"New items (sorted): \", new_items)"
      ],
      "metadata": {
        "colab": {
          "base_uri": "https://localhost:8080/"
        },
        "id": "LKS40RZBu9mK",
        "outputId": "176a25f4-77d8-4aa9-bffd-9c2d84071f27"
      },
      "execution_count": null,
      "outputs": [
        {
          "output_type": "stream",
          "name": "stdout",
          "text": [
            "Old items (unsorted):  [3, 8, 5, 10, 2, 9]\n",
            "New items (sorted):  [2, 3, 5, 8, 9, 10]\n"
          ]
        }
      ]
    },
    {
      "cell_type": "markdown",
      "metadata": {
        "id": "T0E7hRxDo7xx"
      },
      "source": [
        "## 6. ดิกชันนารี - dict (Dictionary) 📖\n",
        "\n",
        "- โครงสร้างข้อมูลที่เชื่อมโยงคีย์ (key) ไปยังค่า (value)"
      ]
    },
    {
      "cell_type": "code",
      "execution_count": null,
      "metadata": {
        "id": "r0jLKS0_wa4i",
        "colab": {
          "base_uri": "https://localhost:8080/"
        },
        "outputId": "d9c35117-89af-4105-c238-ca96576474ce"
      },
      "outputs": [
        {
          "output_type": "stream",
          "name": "stdout",
          "text": [
            "{'Name': 'ComCamp36', 'Organizer': 'CPE38', 'Place': 'KMUTT'}\n",
            "<class 'dict'>\n"
          ]
        }
      ],
      "source": [
        "my_dict = {\"Name\": \"ComCamp36\", \"Organizer\": \"CPE38\", \"Place\": \"KMUTT\"}\n",
        "\n",
        "print(my_dict)\n",
        "print(type(my_dict))"
      ]
    },
    {
      "cell_type": "markdown",
      "metadata": {
        "id": "s5l4II5Bwa4i"
      },
      "source": [
        "#### 📱 การเรียกใช้"
      ]
    },
    {
      "cell_type": "code",
      "execution_count": null,
      "metadata": {
        "id": "_z5ia04kwa4i",
        "colab": {
          "base_uri": "https://localhost:8080/"
        },
        "outputId": "b0b511ef-2037-45a4-90e2-5fd57b574bb0"
      },
      "outputs": [
        {
          "output_type": "stream",
          "name": "stdout",
          "text": [
            "CPE38\n"
          ]
        }
      ],
      "source": [
        "print(my_dict[\"Organizer\"])"
      ]
    },
    {
      "cell_type": "markdown",
      "metadata": {
        "id": "8nxzmU0zwa4i"
      },
      "source": [
        "#### ➕ การเพิ่ม/ลด ข้อมูล"
      ]
    },
    {
      "cell_type": "code",
      "execution_count": null,
      "metadata": {
        "id": "NKrsSBfawa4i",
        "colab": {
          "base_uri": "https://localhost:8080/"
        },
        "outputId": "393cedce-0280-4534-a724-071c818dcc97"
      },
      "outputs": [
        {
          "output_type": "stream",
          "name": "stdout",
          "text": [
            "{'Name': 'ComCamp36', 'Organizer': 'CPE38', 'Place': 'KMUTT', 'Time': '13:30'}\n"
          ]
        }
      ],
      "source": [
        "#การเพิ่ม\n",
        "my_dict['Time'] = \"13:30\"\n",
        "\n",
        "print(my_dict)"
      ]
    },
    {
      "cell_type": "code",
      "execution_count": null,
      "metadata": {
        "id": "hz72PxNkwa4i",
        "colab": {
          "base_uri": "https://localhost:8080/"
        },
        "outputId": "61b1bc72-f610-44cd-845d-28083ca303ce"
      },
      "outputs": [
        {
          "output_type": "stream",
          "name": "stdout",
          "text": [
            "{'Name': 'ComCamp36', 'Organizer': 'CPE38', 'Place': 'KMUTT'}\n"
          ]
        }
      ],
      "source": [
        "#การลด\n",
        "del my_dict['Time']\n",
        "\n",
        "print(my_dict)"
      ]
    },
    {
      "cell_type": "markdown",
      "source": [
        "---"
      ],
      "metadata": {
        "id": "Oi-F4gUPrLWv"
      }
    },
    {
      "cell_type": "markdown",
      "metadata": {
        "id": "Ic7zmajMSnNF"
      },
      "source": [
        "## 🔢 II. การดำเนินการทางคณิตศาสตร์ (Mathematics operations)"
      ]
    },
    {
      "cell_type": "markdown",
      "metadata": {
        "id": "z23nsymuwa4W"
      },
      "source": [
        "- ตัวอย่างการหาผลลัพธ์ของ $ 5 \\times 3 + 25 $"
      ]
    },
    {
      "cell_type": "code",
      "execution_count": null,
      "metadata": {
        "id": "E68FlmlxQATn",
        "colab": {
          "base_uri": "https://localhost:8080/"
        },
        "outputId": "1df0a8be-65f9-48a6-e37e-2d1b9762d9bb"
      },
      "outputs": [
        {
          "output_type": "stream",
          "name": "stdout",
          "text": [
            "40\n"
          ]
        }
      ],
      "source": [
        "print(5 * 3 + 25)"
      ]
    },
    {
      "cell_type": "markdown",
      "metadata": {
        "id": "og2L3qsQwa4W"
      },
      "source": [
        "- ตัวอย่างการหาผลลัพธ์ของ $ 25 + 7 ÷ 7  $"
      ]
    },
    {
      "cell_type": "code",
      "execution_count": null,
      "metadata": {
        "id": "q50RlTKxQDjL",
        "colab": {
          "base_uri": "https://localhost:8080/"
        },
        "outputId": "74eeed1a-078f-4b89-f3b0-e22229d4217f"
      },
      "outputs": [
        {
          "output_type": "stream",
          "name": "stdout",
          "text": [
            "26.0\n"
          ]
        }
      ],
      "source": [
        "print(25 + 7 / 7)"
      ]
    },
    {
      "cell_type": "markdown",
      "metadata": {
        "id": "-zjqKUHUT91v"
      },
      "source": [
        "#### 💅 การใช้วงเล็บ (...)\n",
        "\n",
        "- ทั้งนี้ เราสามารถใช้เครื่องหมายวงเล็บ `( )` ได้เหมือนกับนิพจน์ทางคณิตศาสตร์ปกติเลย\n",
        "- เช่น เราสามารถคำนวณค่าของนิพจน์ $ 8 \\times 2 + (2 + 5) / 3 $ ได้ด้วยคำสั่งนี้"
      ]
    },
    {
      "cell_type": "code",
      "execution_count": null,
      "metadata": {
        "id": "1UkTDB_FTOpI",
        "colab": {
          "base_uri": "https://localhost:8080/"
        },
        "outputId": "fa4b29aa-46b7-4ceb-eb3a-d865294905e9"
      },
      "outputs": [
        {
          "output_type": "stream",
          "name": "stdout",
          "text": [
            "18.333333333333332\n"
          ]
        }
      ],
      "source": [
        "print(8 * 2 + (2 + 5) / 3)"
      ]
    },
    {
      "cell_type": "markdown",
      "metadata": {
        "id": "D5_nYObSwa4W"
      },
      "source": [
        "- เช่น เราสามารถคำนวณค่าของนิพจน์ $ (1+2) × 2 / (5-3)  $ ได้ด้วยคำสั่งนี้"
      ]
    },
    {
      "cell_type": "code",
      "execution_count": null,
      "metadata": {
        "id": "oC4EZPTyVsP2",
        "colab": {
          "base_uri": "https://localhost:8080/"
        },
        "outputId": "2c134dd0-c2c3-480f-ed24-4d89febbce3d"
      },
      "outputs": [
        {
          "output_type": "stream",
          "name": "stdout",
          "text": [
            "3.5999999999999996\n"
          ]
        }
      ],
      "source": [
        "print((1 + 2) * 2 / (5 / 3))"
      ]
    },
    {
      "cell_type": "markdown",
      "metadata": {
        "id": "fhryp_sKphqR"
      },
      "source": [
        "#### 📝 แบบฝึกหัด: จงหาผลลัพธ์จากโจทย์ต่อไปนี้ $ 5 \\times (2 + 3 - 8 \\times 4 + 5 (8 ÷ 2)) $"
      ]
    },
    {
      "cell_type": "code",
      "source": [
        "result = ___\n",
        "\n",
        "print(result)"
      ],
      "metadata": {
        "id": "VXMhSAxzFPWB"
      },
      "execution_count": null,
      "outputs": []
    },
    {
      "cell_type": "markdown",
      "metadata": {
        "id": "T9oJjXEdrEGX"
      },
      "source": [
        "#### 💪 เครื่องหมายยกกำลัง\n",
        "\n",
        "- เครื่องหมายยกกำลังในภาษา Python จะใช้เครื่องหมาย `**` (ดอกจันเขียนติดกัน 2 ดวง)\n",
        "- เช่น ถ้าเราจะคำนวณค่าของนิพจน์ $ 2^5 $ เราจะใช้คำสั่งว่า\n",
        "    \n"
      ]
    },
    {
      "cell_type": "code",
      "execution_count": null,
      "metadata": {
        "id": "0vzA567gq-Xm",
        "colab": {
          "base_uri": "https://localhost:8080/"
        },
        "outputId": "ecefdbfa-64f7-460b-ef3a-f16d1063c0e2"
      },
      "outputs": [
        {
          "output_type": "stream",
          "name": "stdout",
          "text": [
            "64\n"
          ]
        }
      ],
      "source": [
        "print(2 ** 6)"
      ]
    },
    {
      "cell_type": "code",
      "execution_count": null,
      "metadata": {
        "id": "fw2XEdXpsMji",
        "colab": {
          "base_uri": "https://localhost:8080/"
        },
        "outputId": "7fa67e33-d1d0-4d97-fdfe-ea308ebe0135"
      },
      "outputs": [
        {
          "output_type": "stream",
          "name": "stdout",
          "text": [
            "400\n"
          ]
        }
      ],
      "source": [
        "print((4 * 5) ** 2)"
      ]
    },
    {
      "cell_type": "markdown",
      "metadata": {
        "id": "9mWzIPbzsabt"
      },
      "source": [
        "- ดังนั้นเพื่อความปลอดภัย เราจึงนิยมเขียนเครื่องหมายยกกำลัง `**` ติดกับตัวเลข เพื่อให้เป็นที่รู้กันว่า ถ้าหากไม่มีวงเล็บ เราจะเริ่มทำจากเครื่องหมายยกกำลังก่อนเสมอ เช่น เราจะเขียนนิพจน์ $ 4 \\times 7^2 $ ด้วยคำสั่ง `4 * 7**2` เป็นต้น"
      ]
    },
    {
      "cell_type": "markdown",
      "metadata": {
        "id": "WeFRROotuXf7"
      },
      "source": [
        "- นอกจากนี้เรายังสามารถคำนวณค่าราก (root) ได้โดยการใช้สูตร $ \\sqrt[r]{a} = a^{1/r} $\n",
        "\n",
        "- เช่น เราสามารถคำนวณค่า $ \\sqrt[3]{8} $ (รากที่ 3 ของ 8) ได้โดยคำสั่ง `8 ** (1 / 3)`"
      ]
    },
    {
      "cell_type": "code",
      "execution_count": null,
      "metadata": {
        "id": "J7dLeElisSJA",
        "colab": {
          "base_uri": "https://localhost:8080/"
        },
        "outputId": "422e46c4-54ed-49a3-df02-55d7e8780a5a"
      },
      "outputs": [
        {
          "output_type": "stream",
          "name": "stdout",
          "text": [
            "2.0\n"
          ]
        }
      ],
      "source": [
        "print(8 ** (1 / 3))"
      ]
    },
    {
      "cell_type": "markdown",
      "metadata": {
        "id": "Qqv0gPKbUvU_"
      },
      "source": [
        "#### 📝 แบบฝึกหัด:"
      ]
    },
    {
      "cell_type": "markdown",
      "metadata": {
        "id": "bYqXzulivD1u"
      },
      "source": [
        "#### ข้อที่ 1\n",
        "<center>\n",
        "\n",
        " ## $ 3^{7 - 3/4} \\times 2^{5/2} $\n",
        "    \n",
        "</center>"
      ]
    },
    {
      "cell_type": "code",
      "execution_count": null,
      "metadata": {
        "id": "_glTD-i5vKGB",
        "colab": {
          "base_uri": "https://localhost:8080/"
        },
        "outputId": "640fd2dc-0dff-4f4d-b6c8-9dd879586ef9"
      },
      "outputs": [
        {
          "output_type": "stream",
          "name": "stdout",
          "text": [
            "5427.287538283445\n"
          ]
        }
      ],
      "source": [
        "result = (3 ** (7 - 3/4)) * (2 ** (5 / 2))\n",
        "\n",
        "print(result)"
      ]
    },
    {
      "cell_type": "markdown",
      "metadata": {
        "id": "91ZyBqUQvKaS"
      },
      "source": [
        "#### ข้อที่ 2\n",
        "<center>\n",
        "    \n",
        "## $ \\sqrt[2]{\\left( 4 + 12 \\times 5 \\right)} + \\sqrt[3]{\\left( 512 \\div 8 \\right)}  $\n",
        "    \n",
        "</center>"
      ]
    },
    {
      "cell_type": "code",
      "execution_count": null,
      "metadata": {
        "id": "gzCgYY57vgtd",
        "colab": {
          "base_uri": "https://localhost:8080/"
        },
        "outputId": "d6c913cd-5a61-4277-8e2d-2da01f0bac2b"
      },
      "outputs": [
        {
          "output_type": "stream",
          "name": "stdout",
          "text": [
            "53.33333333333333\n"
          ]
        }
      ],
      "source": [
        "result = ((4 + 12 * 5) ** 1/2) + ((512 / 8) ** 1/3)\n",
        "\n",
        "print(result)"
      ]
    },
    {
      "cell_type": "markdown",
      "metadata": {
        "id": "GDDPl844vhI1"
      },
      "source": [
        "#### ข้อที่ 3\n",
        "<center>\n",
        "\n",
        "## $ ({4 + 3^{10.5}}) / ({\\sqrt[2]{6.5}}) + 7.25^2 - (5 - ({\\sqrt[3]{27.25}})) $\n",
        "    \n",
        "</center>"
      ]
    },
    {
      "cell_type": "code",
      "execution_count": null,
      "metadata": {
        "id": "PBNVx0QNuv35",
        "colab": {
          "base_uri": "https://localhost:8080/"
        },
        "outputId": "b8728d3e-6add-44cf-e94e-eba52aee3131"
      },
      "outputs": [
        {
          "output_type": "stream",
          "name": "stdout",
          "text": [
            "31527.37449060553\n"
          ]
        }
      ],
      "source": [
        "result = (4 + 3 ** 10.5)/(6.5 ** 1/2) + (7.25 ** 2) - (5 - (27.25 ** 1/3))\n",
        "\n",
        "print(result)"
      ]
    },
    {
      "cell_type": "markdown",
      "metadata": {
        "id": "calGBXddWbC4"
      },
      "source": [
        "#### 🪵 ตัวแปรหรือตัวแทน"
      ]
    },
    {
      "cell_type": "markdown",
      "metadata": {
        "id": "uAitN6yzwa4Z"
      },
      "source": [
        "- การคำนวณแบบปกติทั่วไป"
      ]
    },
    {
      "cell_type": "code",
      "execution_count": null,
      "metadata": {
        "id": "UNGKQTV4wa4Z"
      },
      "outputs": [],
      "source": [
        "print(1 + 2)"
      ]
    },
    {
      "cell_type": "markdown",
      "metadata": {
        "id": "MJwzn3_Nwa4Z"
      },
      "source": [
        "- ตัวอย่างการกำหนดค่าให้ตัวแปรก่อนนำมาคำนวน"
      ]
    },
    {
      "cell_type": "code",
      "execution_count": null,
      "metadata": {
        "id": "2eIxIwBHwa4Z"
      },
      "outputs": [],
      "source": [
        "a = 1\n",
        "b = 2\n",
        "\n",
        "print(a + b)"
      ]
    },
    {
      "cell_type": "markdown",
      "metadata": {
        "id": "bHVWiV3gwa4Z"
      },
      "source": [
        "- เช็คค่าตัวแปร"
      ]
    },
    {
      "cell_type": "code",
      "execution_count": null,
      "metadata": {
        "id": "vSt21fjLN21x"
      },
      "outputs": [],
      "source": [
        "print(b)"
      ]
    },
    {
      "cell_type": "markdown",
      "metadata": {
        "id": "9j--LmL3NK6R"
      },
      "source": [
        "- ประโยชน์คือ ใช้ในการคำนวณต่อได้ง่าย ตัวอย่าง การหาพื้นที่รูปสี่เหลี่ยมพื้นผ้า เราต้องใช้ `width` (ความกว้าง), `height` (ความสูง), และ `area` (พื้นที่) ดังตัวอย่างด้านล่างนี้"
      ]
    },
    {
      "cell_type": "code",
      "execution_count": null,
      "metadata": {
        "id": "meSEOCkcyhLh"
      },
      "outputs": [],
      "source": [
        "width = 30\n",
        "height = 30\n",
        "area = width * height\n",
        "\n",
        "print(area)"
      ]
    },
    {
      "cell_type": "markdown",
      "metadata": {
        "id": "cOmh0E9xWwLk"
      },
      "source": [
        "#### 📝 แบบฝึกหัด: หาค่าเฉลี่ยจากตัวแปร"
      ]
    },
    {
      "cell_type": "markdown",
      "metadata": {
        "id": "DJqgYt_fOuC7"
      },
      "source": [
        "- จงหาค่าเฉลี่ยของตัวเลขที่กำหนดให้ต่อไปนี้โดยการเติมโค้ดลงในช่องว่าง"
      ]
    },
    {
      "cell_type": "code",
      "execution_count": null,
      "metadata": {
        "id": "A_G1EELUO8A3",
        "colab": {
          "base_uri": "https://localhost:8080/"
        },
        "outputId": "22d6a170-54e8-4f3a-f1a9-0355b575396a"
      },
      "outputs": [
        {
          "output_type": "stream",
          "name": "stdout",
          "text": [
            "35.0\n"
          ]
        }
      ],
      "source": [
        "a = 1\n",
        "b = -10\n",
        "c = 114\n",
        "\n",
        "mean = (a + b + c) / 3\n",
        "\n",
        "print(mean)"
      ]
    },
    {
      "cell_type": "markdown",
      "metadata": {
        "id": "3jdzSIenRLHh"
      },
      "source": [
        "#### 📝 แบบฝึกหัด: วงรีสุดหรรษามหาสนุก\n",
        "- เขียนโค้ดเพื่อคำนวณปริมาตรของทรงรี (ellipsoid) จากตัวแปรต่อไปนี้\n",
        "\n",
        "$$ \\mathtt{Volume} = \\frac{4}{3} \\times \\pi \\times \\mathtt{Width} \\times \\mathtt{Length} \\times \\mathtt{Height} $$"
      ]
    },
    {
      "cell_type": "code",
      "execution_count": null,
      "metadata": {
        "id": "qaNjNBLiShDO"
      },
      "outputs": [],
      "source": [
        "pi = 3.1415926   # ค่า 𝜋 (ไพ)\n",
        "# กำหนดความกว้างในตัวแปร width ให้เท่ากับ 20\n",
        "width = 20\n",
        "# กำหนดความยาวในตัวแปร length ให้เท่ากับ 30\n",
        "length = 30\n",
        "# กำหนดความลึกในตัวแปร depth ให้เท่ากับ 40\n",
        "height = 40\n",
        "# คำนวณปริมาตรของทรงรีแล้วเก็บในตัวแปร volume\n",
        "volume = 4/3 * pi * width * length * height\n",
        "# พิมพ์ค่าในตัวแปร volume\n",
        "print(volume)"
      ]
    },
    {
      "cell_type": "markdown",
      "source": [
        "---"
      ],
      "metadata": {
        "id": "K7nu3EqgsC5N"
      }
    },
    {
      "cell_type": "markdown",
      "metadata": {
        "id": "w_b9PqFr2knq"
      },
      "source": [
        "# 🛣️ III. เงื่อนไข (Condition)\n",
        "### 1. เงื่อนไข if\n",
        "### 2. เงื่อนไข if-else\n",
        "### 3. เงื่อนไข if-elif-else"
      ]
    },
    {
      "cell_type": "markdown",
      "metadata": {
        "id": "sX3rKyEn3AgN"
      },
      "source": [
        "## 1. เงื่อนไข if"
      ]
    },
    {
      "cell_type": "code",
      "execution_count": null,
      "metadata": {
        "id": "Z6GWvHsxwa4k",
        "colab": {
          "base_uri": "https://localhost:8080/"
        },
        "outputId": "9595b770-ee31-4f4d-9f47-0987c8b1081e"
      },
      "outputs": [
        {
          "output_type": "stream",
          "name": "stdout",
          "text": [
            "You pass!\n"
          ]
        }
      ],
      "source": [
        "#การใช้ If\n",
        "score = 100\n",
        "\n",
        "if score >= 50:\n",
        "  print(\"You pass!\")"
      ]
    },
    {
      "cell_type": "markdown",
      "metadata": {
        "id": "gxysRUfawa4k"
      },
      "source": [
        "- ทดสอบกับการรับข้อมูลและตรวจสอบเงื่อนไข"
      ]
    },
    {
      "cell_type": "code",
      "execution_count": null,
      "metadata": {
        "id": "0tltE7whwa4k"
      },
      "outputs": [],
      "source": [
        "score = int(input(\"Enter your salary: \"))\n",
        "\n",
        "if score >= 50:\n",
        "    print(\"You pass!\")"
      ]
    },
    {
      "cell_type": "markdown",
      "metadata": {
        "id": "1bIOvnGD3uRR"
      },
      "source": [
        "## 2. เงื่อนไข if-else"
      ]
    },
    {
      "cell_type": "code",
      "execution_count": null,
      "metadata": {
        "id": "lOD-6oj3wa4l",
        "colab": {
          "base_uri": "https://localhost:8080/"
        },
        "outputId": "bf482941-a587-4906-f8b8-577931dec635"
      },
      "outputs": [
        {
          "output_type": "stream",
          "name": "stdout",
          "text": [
            "No No No\n"
          ]
        }
      ],
      "source": [
        "#การใช้ else\n",
        "score = 100\n",
        "\n",
        "if score >= 50:\n",
        "    print(\"You pass!\")\n",
        "else:\n",
        "    print(\"You fail.\")"
      ]
    },
    {
      "cell_type": "code",
      "source": [
        "score = int(input(\"Enter your score: \"))\n",
        "\n",
        "if score >= 50:\n",
        "  print(\"You pass!\")\n",
        "else\n",
        "  print(\"You fail.\")"
      ],
      "metadata": {
        "id": "JdWEyWEjvy9J"
      },
      "execution_count": null,
      "outputs": []
    },
    {
      "cell_type": "markdown",
      "metadata": {
        "id": "jDxVqfUxwa4l"
      },
      "source": [
        "## 3. เงื่อนไข if-elif-else"
      ]
    },
    {
      "cell_type": "markdown",
      "source": [
        "- ตัวอย่างการใช้ if-elif-else"
      ],
      "metadata": {
        "id": "KmcYqnZ0xD5a"
      }
    },
    {
      "cell_type": "code",
      "execution_count": null,
      "metadata": {
        "id": "3T_p38zKwa4l",
        "colab": {
          "base_uri": "https://localhost:8080/"
        },
        "outputId": "75b4c2ed-57ad-4e2c-869f-0d25dee9e172"
      },
      "outputs": [
        {
          "output_type": "stream",
          "name": "stdout",
          "text": [
            "Brilliant!\n"
          ]
        }
      ],
      "source": [
        "score = 70\n",
        "\n",
        "if score < 0:\n",
        "  print(\"Try harder next time.\")\n",
        "elif score < 20:\n",
        "  print(\"Fail.\")\n",
        "elif score < 40:\n",
        "  print(\"Almost pass, try a bit harder.\")\n",
        "elif score < 60:\n",
        "  print(\"You pass, but I believe you can do better.\")\n",
        "elif score < 80:\n",
        "  print(\"Brilliant!\")\n",
        "elif score <= 100:\n",
        "  print(\"Top notch!\")\n",
        "else:\n",
        "  print(\"Invalid score\")"
      ]
    },
    {
      "cell_type": "code",
      "source": [
        "score = int(input(\"Enter your score: \"))\n",
        "\n",
        "if score < 0:\n",
        "  print(\"Try harder next time.\")\n",
        "elif score < 20:\n",
        "  print(\"Fail.\")\n",
        "elif score < 40:\n",
        "  print(\"Almost pass, try a bit harder.\")\n",
        "elif score < 60:\n",
        "  print(\"You pass, but I believe you can do better.\")\n",
        "elif score < 80:\n",
        "  print(\"Brilliant!\")\n",
        "elif score <= 100:\n",
        "  print(\"Top notch!\")\n",
        "else:\n",
        "  print(\"Invalid score\")"
      ],
      "metadata": {
        "id": "JbFI4-hNyR7w"
      },
      "execution_count": null,
      "outputs": []
    },
    {
      "cell_type": "markdown",
      "metadata": {
        "id": "s4jrN1gTwa4l"
      },
      "source": [
        "#### 📝 แบบฝึกหัด: โปรแกรมตัดเกรด\n",
        "\n",
        "จงเขียนโปรแกรมตัดเกรดโดยมีเงื่อนไขต่อไปนี้ 📄\n",
        "\n",
        "- คะแนนมากกว่าเท่ากับ 0 คะแนน แต่น้อยกว่า 50 เกรด 0\n",
        "- คะแนนมากกว่าเท่ากับ 50 คะแนน แต่น้อยกว่า 55 คะแนน เกรด 1\n",
        "- คะแนนมากกว่าเท่ากับ 55 คะแนน แต่น้อยกว่า 60 คะแนน เกรด 1.5\n",
        "- คะแนนมากกว่าเท่ากับ 60 คะแนน แต่น้อยกว่า 65 คะแนน เกรด 2\n",
        "- คะแนนมากกว่าเท่ากับ 65 คะแนน แต่น้อยกว่า 70 คะแนน เกรด 2.5\n",
        "- คะแนนมากกว่าเท่ากับ 70 คะแนน แต่น้อยกว่า 75 คะแนน เกรด 3\n",
        "- คะแนนมากกว่าเท่ากับ 75 คะแนน แต่น้อยกว่า 80 คะแนน เกรด 3.5\n",
        "- คะแนนมากกว่าเท่ากับ 80 คะแนน แต่น้อยกว่า 100 คะแนน เกรด 4\n",
        "- ถ้านอกจากนั้น ให้พิมพ์ \" ฮั่นแน่ แอบทำอะไรหน่ะ นายไม่รอดแน่!!! เจอกันที่ห้องปกครองนะจ๊ะ \""
      ]
    },
    {
      "cell_type": "code",
      "execution_count": null,
      "metadata": {
        "id": "u8QBL-Urwa4l"
      },
      "outputs": [],
      "source": [
        "score = int(input())\n",
        "\n",
        "if score >= 80 :\n",
        "    print(\"เกรด 4\")\n",
        "elif score >= 75 :\n",
        "    print(\"เกรด 3.5\")\n",
        "elif score >= 70 :\n",
        "    print(\"เกรด 3\")\n",
        "elif score >= 65 :\n",
        "    print(\"เกรด 2.5\")\n",
        "elif score >= 60 :\n",
        "    print(\"เกรด 2\")\n",
        "elif score >= 55 :\n",
        "    print(\"เกรด 1.5\")\n",
        "elif score >= 50 :\n",
        "    print(\"เกรด 1\")\n",
        "elif score > 0 :\n",
        "    print(\"เกรด 0\")\n",
        "else:\n",
        "    print(\"ฮั่นแน่ แอบทำอะไรหน่ะ นายไม่รอดแน่!!! เจอกันที่ห้องปกครองนะจ๊ะ\")"
      ]
    },
    {
      "cell_type": "markdown",
      "source": [
        "---"
      ],
      "metadata": {
        "id": "ddCLE2oviJ04"
      }
    },
    {
      "cell_type": "markdown",
      "metadata": {
        "id": "89IgbFgvwa4l"
      },
      "source": [
        "# IV. การลูป (Loop) 🧵\n",
        "### 1. ลูปในระยะ - For loop\n",
        "### 2. ลูปในขณะ - While loop\n",
        "### 3. ลูปซ้อนลูป - Nested loop"
      ]
    },
    {
      "cell_type": "markdown",
      "source": [
        "## 1. ลูปในระยะ - For loop 🎡"
      ],
      "metadata": {
        "id": "GG2rgmmtysu0"
      }
    },
    {
      "cell_type": "markdown",
      "metadata": {
        "id": "GRYgtTekwa4m"
      },
      "source": [
        "- การพิมพ์ข้อความแบบวนรอบหรือ loop ใน Python"
      ]
    },
    {
      "cell_type": "markdown",
      "metadata": {
        "id": "JHFBFWhc7aB3"
      },
      "source": [
        "#### 📃 Loop ในลิสต์"
      ]
    },
    {
      "cell_type": "code",
      "execution_count": null,
      "metadata": {
        "id": "vE-nCWPDwa4m",
        "colab": {
          "base_uri": "https://localhost:8080/"
        },
        "outputId": "f91735b9-2ac8-42e6-a5ad-42a40396aaf3"
      },
      "outputs": [
        {
          "output_type": "stream",
          "name": "stdout",
          "text": [
            "163.5  150.0  167.0  161.25  170.0  "
          ]
        }
      ],
      "source": [
        "# ลูปค่าให้ i เป็นสมาชิกแต่ละตัวในลิสต์\n",
        "student_heights = [163.5, 150.0, 167.0, 161.25, 170.0]\n",
        "\n",
        "for i in student_heights:\n",
        "    print(i, end='  ') # end = '  ' เป็นการเปลี่ยนการขึ้นบรรทัดใหม่เป็น '  '"
      ]
    },
    {
      "cell_type": "markdown",
      "metadata": {
        "id": "VqOV2uK_7QDs"
      },
      "source": [
        "#### 🗨️ Loop ในข้อความ"
      ]
    },
    {
      "cell_type": "markdown",
      "metadata": {
        "id": "gchz4TuGwa4m"
      },
      "source": [
        "- อธิบาย loop แบบ ง่าย ๆ คือ การวนซ้ำโดยมีความยาวของ loop เท่าความยาวของขนาดข้อมูลที่เรากล่าวถึง"
      ]
    },
    {
      "cell_type": "code",
      "execution_count": null,
      "metadata": {
        "id": "81Qf-Chxwa4m",
        "colab": {
          "base_uri": "https://localhost:8080/"
        },
        "outputId": "fbf48605-5590-4693-843a-32c365bc7a2c"
      },
      "outputs": [
        {
          "output_type": "stream",
          "name": "stdout",
          "text": [
            "C\n",
            "o\n",
            "m\n",
            "C\n",
            "a\n",
            "m\n",
            "p\n",
            "3\n",
            "6\n"
          ]
        }
      ],
      "source": [
        "name = \"ComCamp36\"\n",
        "\n",
        "for i in name:\n",
        "    print(i)"
      ]
    },
    {
      "cell_type": "markdown",
      "metadata": {
        "id": "cxS4mHj_wa4n"
      },
      "source": [
        "#### 🌟 loop ในระยะ range"
      ]
    },
    {
      "cell_type": "code",
      "execution_count": null,
      "metadata": {
        "id": "CesOGeMFwa4n",
        "colab": {
          "base_uri": "https://localhost:8080/"
        },
        "outputId": "5c37f5e7-23c9-4847-eb7f-6d18a6844f84"
      },
      "outputs": [
        {
          "output_type": "stream",
          "name": "stdout",
          "text": [
            "0\n",
            "1\n",
            "2\n",
            "3\n",
            "4\n"
          ]
        }
      ],
      "source": [
        "# range(a,b) จะคืนค่าระยะ จาก a จนก่อนถึง b เช่น range(0,3) -> [0, 1, 2]\n",
        "for i in range(0,5):\n",
        "    print(i)"
      ]
    },
    {
      "cell_type": "code",
      "execution_count": null,
      "metadata": {
        "id": "HdJYtoC2wa4m",
        "colab": {
          "base_uri": "https://localhost:8080/"
        },
        "outputId": "401a2b28-d64b-43af-ee7d-d21a855b6452"
      },
      "outputs": [
        {
          "output_type": "stream",
          "name": "stdout",
          "text": [
            "Hello Guys!\n",
            "Hello Guys!\n",
            "Hello Guys!\n",
            "Hello Guys!\n",
            "Hello Guys!\n",
            "Hello Guys!\n"
          ]
        }
      ],
      "source": [
        "#วนซ้ำการ print 6 รอบ\n",
        "\n",
        "for i in range(6):\n",
        "    print(\"Hello Guys!\")"
      ]
    },
    {
      "cell_type": "markdown",
      "metadata": {
        "id": "Oowt2s45wa4n"
      },
      "source": [
        "## 2. ลูปในขณะ - While Loop 🎠"
      ]
    },
    {
      "cell_type": "code",
      "execution_count": null,
      "metadata": {
        "id": "BrjsaBfGwa4n",
        "colab": {
          "base_uri": "https://localhost:8080/"
        },
        "outputId": "27391e9b-4a4a-4eaa-fe6e-3aa300042994"
      },
      "outputs": [
        {
          "output_type": "stream",
          "name": "stdout",
          "text": [
            "Hello\n",
            "Hello\n",
            "Hello\n",
            "Hello\n",
            "Hello\n"
          ]
        }
      ],
      "source": [
        "#วนซ้ำโดยใช้ While\n",
        "i = 0\n",
        "\n",
        "while i < 5:\n",
        "    print(\"Hello\")\n",
        "    i+=1"
      ]
    },
    {
      "cell_type": "markdown",
      "metadata": {
        "id": "pq2pzKta-NV5"
      },
      "source": [
        "#### 📝 แบบฝึกหัด: โปรแกรมคัดกรองผู้บรรลุนิติภาวะ"
      ]
    },
    {
      "cell_type": "markdown",
      "metadata": {
        "id": "5yNuZYR2wa4o"
      },
      "source": [
        "ตามกฎหมายไทย บุคคลจะพ้นจากภาวะผู้เยาว์และบรรลุนิติภาวะเมื่ออายุครบ 20 ปีบริบูรณ์\n",
        "- จงเขียนเงื่อนไขที่จะคัดกรองเพียงอายุที่บรรลุนิติภาวะ"
      ]
    },
    {
      "cell_type": "code",
      "execution_count": null,
      "metadata": {
        "id": "3X6SIyR4wa4o",
        "colab": {
          "base_uri": "https://localhost:8080/"
        },
        "outputId": "c47a11f5-9cfa-4906-9d38-3adf78ad55f8"
      },
      "outputs": [
        {
          "output_type": "stream",
          "name": "stdout",
          "text": [
            "ผู้บรรลุนิติภาวะคนที่ 2 อายุ 22 ปี\n",
            "ผู้บรรลุนิติภาวะคนที่ 4 อายุ 34 ปี\n",
            "ผู้บรรลุนิติภาวะคนที่ 5 อายุ 56 ปี\n"
          ]
        }
      ],
      "source": [
        "people_age = [17, 22, 19, 34, 56]\n",
        "\n",
        "for i in range(len(people_age)):\n",
        "    if people_age[i] >= 20:\n",
        "        print(f\"ผู้บรรลุนิติภาวะคนที่ {i + 1} อายุ {people_age[i]} ปี\")"
      ]
    },
    {
      "cell_type": "markdown",
      "source": [
        "## 3. ลูปซ้อนลูป - Nested loop 🪺"
      ],
      "metadata": {
        "id": "z1bHQdrdoNlA"
      }
    },
    {
      "cell_type": "markdown",
      "source": [
        "- Nested loop หรือ ลูปซ้อนลูป คือการลูปในกระบวนการของลูปอื่น เช่น"
      ],
      "metadata": {
        "id": "QND9QhLt1AwS"
      }
    },
    {
      "cell_type": "code",
      "source": [
        "for i in range(1, 4):\n",
        "  print(f\"Multiplication table of {i}\")\n",
        "  for j in range(1, 13):\n",
        "    print(f\"{i} * {j} = {i * j}\")\n",
        "  print()"
      ],
      "metadata": {
        "colab": {
          "base_uri": "https://localhost:8080/"
        },
        "id": "avCfzCFW1ADb",
        "outputId": "6af8804f-76ab-4194-f040-f95465f27bdf"
      },
      "execution_count": null,
      "outputs": [
        {
          "output_type": "stream",
          "name": "stdout",
          "text": [
            "Multiplication table of 1\n",
            "1 * 1 = 1\n",
            "1 * 2 = 2\n",
            "1 * 3 = 3\n",
            "1 * 4 = 4\n",
            "1 * 5 = 5\n",
            "1 * 6 = 6\n",
            "1 * 7 = 7\n",
            "1 * 8 = 8\n",
            "1 * 9 = 9\n",
            "1 * 10 = 10\n",
            "1 * 11 = 11\n",
            "1 * 12 = 12\n",
            "\n",
            "Multiplication table of 2\n",
            "2 * 1 = 2\n",
            "2 * 2 = 4\n",
            "2 * 3 = 6\n",
            "2 * 4 = 8\n",
            "2 * 5 = 10\n",
            "2 * 6 = 12\n",
            "2 * 7 = 14\n",
            "2 * 8 = 16\n",
            "2 * 9 = 18\n",
            "2 * 10 = 20\n",
            "2 * 11 = 22\n",
            "2 * 12 = 24\n",
            "\n",
            "Multiplication table of 3\n",
            "3 * 1 = 3\n",
            "3 * 2 = 6\n",
            "3 * 3 = 9\n",
            "3 * 4 = 12\n",
            "3 * 5 = 15\n",
            "3 * 6 = 18\n",
            "3 * 7 = 21\n",
            "3 * 8 = 24\n",
            "3 * 9 = 27\n",
            "3 * 10 = 30\n",
            "3 * 11 = 33\n",
            "3 * 12 = 36\n",
            "\n"
          ]
        }
      ]
    },
    {
      "cell_type": "markdown",
      "source": [
        "#### 📝 แบบฝึกหัด: ต้นคริสต์มาส"
      ],
      "metadata": {
        "id": "m1lhOXjw2Phc"
      }
    },
    {
      "cell_type": "markdown",
      "source": [
        "จงรับจำนวนนับ n และพิมพ์ `*` จำนวน i แถว แถวละ i ตัว เมื่อ i คือลูปในระยะ 1 ถึง n"
      ],
      "metadata": {
        "id": "VCKmmM5t3DY9"
      }
    },
    {
      "cell_type": "markdown",
      "source": [
        "- ตัวอย่าง\n",
        "\n",
        "|input|output|\n",
        "|---|---|\n",
        "|Enter the height of the Christmas tree: 5|\\*<br>\\*\\*<br>\\*\\*\\*<br>\\*\\*\\*\\*<br>\\*\\*\\*\\*\\*|"
      ],
      "metadata": {
        "id": "uvtUaZJs2-9B"
      }
    },
    {
      "cell_type": "code",
      "source": [
        "n = int(input(\"Enter the height of the Christmas tree: \"))\n",
        "\n",
        "# จงเขียนโค้ดในพื้นที่ด้านล่าง\n",
        "for i in range(1, n + 1):\n",
        "  for j in range(i):\n",
        "    print(\"*\", end=\"\")\n",
        "  print()"
      ],
      "metadata": {
        "id": "faEcUJ5A4kIx",
        "colab": {
          "base_uri": "https://localhost:8080/"
        },
        "outputId": "db6ab159-1fc5-4620-ef7a-9e7c7b9951ac"
      },
      "execution_count": null,
      "outputs": [
        {
          "output_type": "stream",
          "name": "stdout",
          "text": [
            "Enter the height of the Christmas tree: 5\n",
            "*\n",
            "**\n",
            "***\n",
            "****\n",
            "*****\n"
          ]
        }
      ]
    },
    {
      "cell_type": "markdown",
      "source": [
        "---"
      ],
      "metadata": {
        "id": "x1gKn7caiMHK"
      }
    },
    {
      "cell_type": "markdown",
      "metadata": {
        "id": "gmVrBIbT_wa-"
      },
      "source": [
        "# V. ฟังก์ชั่น (Function) 🧩\n",
        "### 1. การนิยามฟังก์ชัน (Function defining)\n",
        "### 2. การคืนค่าของฟังก์ชัน (Function returning)"
      ]
    },
    {
      "cell_type": "markdown",
      "source": [
        "## 1. การนิยามฟังก์ชัน (Function defining) 📦"
      ],
      "metadata": {
        "id": "kYbaIA2_0mI7"
      }
    },
    {
      "cell_type": "markdown",
      "metadata": {
        "id": "_mm0GVBowa4p"
      },
      "source": [
        "- การรวมกลุ่มกันการทำงานต่าง ๆ ของโค้ดให้อยู่ในฟังก์ชัน"
      ]
    },
    {
      "cell_type": "code",
      "execution_count": null,
      "metadata": {
        "id": "xVxfmFenwa4p"
      },
      "outputs": [],
      "source": [
        "def show():\n",
        "    print(1 * 4)"
      ]
    },
    {
      "cell_type": "code",
      "execution_count": null,
      "metadata": {
        "id": "i9q2s6A1wa4p",
        "colab": {
          "base_uri": "https://localhost:8080/"
        },
        "outputId": "0b5bf6b2-9c77-4291-ae04-854ef5263159"
      },
      "outputs": [
        {
          "output_type": "stream",
          "name": "stdout",
          "text": [
            "4\n"
          ]
        }
      ],
      "source": [
        "show()"
      ]
    },
    {
      "cell_type": "markdown",
      "metadata": {
        "id": "W1Un2oSOwa4p"
      },
      "source": [
        "#### 📩 การส่งค่า เข้า/ออก"
      ]
    },
    {
      "cell_type": "code",
      "execution_count": null,
      "metadata": {
        "id": "PUz_HBYIwa4p"
      },
      "outputs": [],
      "source": [
        "def calc(a):\n",
        "    print((a+2)/2)"
      ]
    },
    {
      "cell_type": "code",
      "execution_count": null,
      "metadata": {
        "id": "K8wpbf7Jwa4p",
        "colab": {
          "base_uri": "https://localhost:8080/"
        },
        "outputId": "2f1a90dd-8f5f-4e69-94fe-4dd890f0aacb"
      },
      "outputs": [
        {
          "output_type": "stream",
          "name": "stdout",
          "text": [
            "2.0\n"
          ]
        }
      ],
      "source": [
        "calc(2)"
      ]
    },
    {
      "cell_type": "markdown",
      "source": [
        "## 2. การคืนค่าของฟังก์ชัน (Function returning) 📤"
      ],
      "metadata": {
        "id": "yID17d4d03t1"
      }
    },
    {
      "cell_type": "markdown",
      "metadata": {
        "id": "6QG-wbscwa4p"
      },
      "source": [
        "#### 🪴 ตัวอย่างการประยุกต์ใช้"
      ]
    },
    {
      "cell_type": "code",
      "execution_count": null,
      "metadata": {
        "id": "dZnfCsbiwa4p"
      },
      "outputs": [],
      "source": [
        "def area(b, h):\n",
        "    a = 0.5 * b * h\n",
        "    return a"
      ]
    },
    {
      "cell_type": "code",
      "execution_count": null,
      "metadata": {
        "id": "VncG2HLiwa4q",
        "colab": {
          "base_uri": "https://localhost:8080/"
        },
        "outputId": "53537d23-b10c-4990-fee9-080f2ed07bb3"
      },
      "outputs": [
        {
          "output_type": "stream",
          "name": "stdout",
          "text": [
            "ป้อนความยาวฐานของรูปสามเหลี่ยม: 45\n",
            "ป้อนความสูงของรูปสามเหลี่ยม: 23\n",
            "พื้นที่ของรูปสามเหลี่ยมคือ: 517.5\n"
          ]
        }
      ],
      "source": [
        "# รับค่าฐานและความสูงจากผู้ใช้\n",
        "b = float(input(\"ป้อนความยาวฐานของรูปสามเหลี่ยม: \"))\n",
        "h = float(input(\"ป้อนความสูงของรูปสามเหลี่ยม: \"))\n",
        "# คำนวณและพิมพ์ผลลัพธ์\n",
        "area = area(b, h)\n",
        "print(\"พื้นที่ของรูปสามเหลี่ยมคือ:\", area)"
      ]
    }
  ],
  "metadata": {
    "celltoolbar": "Slideshow",
    "colab": {
      "provenance": [],
      "include_colab_link": true
    },
    "kernelspec": {
      "display_name": "Python 3",
      "name": "python3"
    },
    "language_info": {
      "codemirror_mode": {
        "name": "ipython",
        "version": 3
      },
      "file_extension": ".py",
      "mimetype": "text/x-python",
      "name": "python",
      "nbconvert_exporter": "python",
      "pygments_lexer": "ipython3",
      "version": "3.11.5"
    }
  },
  "nbformat": 4,
  "nbformat_minor": 0
}